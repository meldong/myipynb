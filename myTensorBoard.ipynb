{
 "cells": [
  {
   "cell_type": "markdown",
   "metadata": {},
   "source": [
    "# Demo: myTensorBoard\n",
    "In this tutorial, we are going to implement a neural network with fully-connected layers to perform classification, visualize the model and plot the loss and gradients by using a tensorboard."
   ]
  },
  {
   "cell_type": "code",
   "execution_count": 1,
   "metadata": {},
   "outputs": [
    {
     "name": "stdout",
     "output_type": "stream",
     "text": [
      "Extracting /tmp/data\\train-images-idx3-ubyte.gz\n",
      "Extracting /tmp/data\\train-labels-idx1-ubyte.gz\n",
      "Extracting /tmp/data\\t10k-images-idx3-ubyte.gz\n",
      "Extracting /tmp/data\\t10k-labels-idx1-ubyte.gz\n",
      "x_train:  (55000, 784)\n",
      "y_train:  (55000, 10)\n",
      "x_test:  (10000, 784)\n",
      "y_test:  (10000, 10)\n"
     ]
    }
   ],
   "source": [
    "import tensorflow as tf\n",
    "import numpy as np\n",
    "from tensorflow.examples.tutorials.mnist import input_data\n",
    "\n",
    "mnist = input_data.read_data_sets(\"/tmp/data\", one_hot=True)\n",
    "\n",
    "x_train = mnist.train.images\n",
    "y_train = mnist.train.labels\n",
    "x_test = mnist.test.images\n",
    "y_test = mnist.test.labels\n",
    "\n",
    "print (\"x_train: \", x_train.shape)\n",
    "print (\"y_train: \", y_train.shape)\n",
    "print (\"x_test: \", x_test.shape)\n",
    "print (\"y_test: \", y_test.shape)"
   ]
  },
  {
   "cell_type": "markdown",
   "metadata": {},
   "source": [
    "## Define Network"
   ]
  },
  {
   "cell_type": "code",
   "execution_count": 2,
   "metadata": {
    "collapsed": true
   },
   "outputs": [],
   "source": [
    "def fully_connected(x, dim_in, dim_out, name):\n",
    "    with tf.variable_scope(name) as scope:\n",
    "        # create variables\n",
    "        w = tf.get_variable('w', shape=[dim_in, dim_out], \n",
    "                            initializer=tf.random_uniform_initializer(minval=-0.1, maxval=0.1))\n",
    "        b = tf.get_variable('b', shape=[dim_out])\n",
    "        # create operations\n",
    "        out = tf.matmul(x, w) + b\n",
    "        return out    \n",
    "\n",
    "# Create model\n",
    "def neural_network(x, dim_in=784, dim_h=500, dim_out=10):\n",
    "    # 1st hidden layer with ReLU\n",
    "    h1 = fully_connected(x, dim_in, dim_h, name='hidden_layer_1')\n",
    "    h1 = tf.nn.relu(h1)\n",
    "    # 2nd hidden layer with ReLU\n",
    "    h2 = fully_connected(h1, dim_h, dim_h, name='hidden_layer_2')\n",
    "    h2 = tf.nn.relu(h2)\n",
    "    # output layer with linear\n",
    "    out = fully_connected(h2, dim_h, dim_out, name='output_layer')\n",
    "    return out"
   ]
  },
  {
   "cell_type": "markdown",
   "metadata": {},
   "source": [
    "## Construct graph"
   ]
  },
  {
   "cell_type": "code",
   "execution_count": 3,
   "metadata": {
    "collapsed": true
   },
   "outputs": [],
   "source": [
    "x = tf.placeholder(tf.float32, [None, 784])\n",
    "y = tf.placeholder(tf.float32, [None, 10])\n",
    "\n",
    "# Construct model with default value\n",
    "out = neural_network(x)"
   ]
  },
  {
   "cell_type": "markdown",
   "metadata": {},
   "source": [
    "## Loss, Optimizer and Summary"
   ]
  },
  {
   "cell_type": "code",
   "execution_count": 4,
   "metadata": {},
   "outputs": [],
   "source": [
    "# loss \n",
    "with tf.name_scope('loss'):\n",
    "    loss = tf.reduce_mean(tf.nn.softmax_cross_entropy_with_logits(labels=y, logits=out))\n",
    "\n",
    "# accuracy\n",
    "with tf.name_scope('accuracy'):\n",
    "    pred = tf.argmax(out, 1)\n",
    "    target = tf.argmax(y, 1)\n",
    "    correct_pred = tf.equal(pred, target)\n",
    "    accuracy = tf.reduce_mean(tf.cast(correct_pred, tf.float32))\n",
    "\n",
    "    \n",
    "# train op\n",
    "with tf.name_scope('optimizer'):\n",
    "    optimizer = tf.train.RMSPropOptimizer(learning_rate=0.001)\n",
    "    grads = tf.gradients(loss, tf.trainable_variables())\n",
    "    grads_and_vars = list(zip(grads, tf.trainable_variables()))\n",
    "    train_op = optimizer.apply_gradients(grads_and_vars=grads_and_vars)\n",
    "\n",
    "# add summary op   \n",
    "tf.summary.scalar('batch_loss', loss)\n",
    "for var in tf.trainable_variables():\n",
    "    tf.summary.histogram(var.op.name, var)\n",
    "for grad, var in grads_and_vars:\n",
    "    tf.summary.histogram(var.op.name+'/gradient', grad)\n",
    "\n",
    "summary_op = tf.summary.merge_all() "
   ]
  },
  {
   "cell_type": "markdown",
   "metadata": {},
   "source": [
    "## Session: train and test model"
   ]
  },
  {
   "cell_type": "code",
   "execution_count": 5,
   "metadata": {},
   "outputs": [
    {
     "name": "stdout",
     "output_type": "stream",
     "text": [
      "Epoch 1, Loss: 0.525\n",
      "Epoch 2, Loss: 0.092\n",
      "Epoch 3, Loss: 0.057\n",
      "Epoch 4, Loss: 0.042\n",
      "Epoch 5, Loss: 0.030\n",
      "Epoch 6, Loss: 0.022\n",
      "Epoch 7, Loss: 0.019\n",
      "Epoch 8, Loss: 0.014\n",
      "Epoch 9, Loss: 0.011\n",
      "Epoch 10, Loss: 0.011\n",
      "Epoch 11, Loss: 0.009\n",
      "Epoch 12, Loss: 0.009\n",
      "Epoch 13, Loss: 0.008\n",
      "Epoch 14, Loss: 0.007\n",
      "Epoch 15, Loss: 0.006\n",
      "Finished training!\n",
      "\n",
      "Test accuracy: 0.982\n"
     ]
    }
   ],
   "source": [
    "batch_size = 100\n",
    "log_path = 'log/'\n",
    "\n",
    "# launch the graph\n",
    "config = tf.ConfigProto()\n",
    "config.gpu_options.allow_growth = True\n",
    "with tf.Session(config=config) as sess:\n",
    "    # initialize tensor variables\n",
    "    tf.global_variables_initializer().run()\n",
    "    summary_writer = tf.summary.FileWriter(log_path, graph=tf.get_default_graph())\n",
    "    # training cycle\n",
    "    for epoch in range(15):\n",
    "        avg_loss = 0.\n",
    "        n_iters_per_epoch = int(mnist.train.num_examples / batch_size)\n",
    "        # loop over all batches\n",
    "        for i in range(n_iters_per_epoch):\n",
    "            x_batch, y_batch = mnist.train.next_batch(batch_size)\n",
    "            # run optimization op (backprop) and loss op (to get loss value)\n",
    "            feed_dict={x: x_batch, y: y_batch}\n",
    "            _, c = sess.run([train_op, loss], feed_dict=feed_dict)\n",
    "            # compute average loss\n",
    "            avg_loss += c / n_iters_per_epoch\n",
    "            if i % 10 == 0:\n",
    "                summary = sess.run(summary_op, feed_dict)\n",
    "                summary_writer.add_summary(summary, epoch*n_iters_per_epoch + i)\n",
    "        print(\"Epoch %d, Loss: %.3f\" % (epoch+1, avg_loss))\n",
    "    print(\"Finished training!\")\n",
    "    print(\"\")\n",
    "    print(\"Test accuracy:\", sess.run(accuracy, {x: mnist.test.images, y: mnist.test.labels}))"
   ]
  },
  {
   "cell_type": "markdown",
   "metadata": {},
   "source": [
    "## TensorBoard\n",
    "To execute the tensorboard, open the new terminal, run command below and open http://localhost:6005/ into your web browser.\n",
    "```bash\n",
    "$ tensorboard --logdir='./log' --port=6005 \n",
    "```"
   ]
  }
 ],
 "metadata": {
  "anaconda-cloud": {},
  "kernelspec": {
   "display_name": "Python 3",
   "language": "python",
   "name": "python3"
  },
  "language_info": {
   "codemirror_mode": {
    "name": "ipython",
    "version": 3
   },
   "file_extension": ".py",
   "mimetype": "text/x-python",
   "name": "python",
   "nbconvert_exporter": "python",
   "pygments_lexer": "ipython3",
   "version": "3.6.2"
  }
 },
 "nbformat": 4,
 "nbformat_minor": 1
}
